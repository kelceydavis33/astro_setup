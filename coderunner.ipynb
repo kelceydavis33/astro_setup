{
 "cells": [
  {
   "cell_type": "markdown",
   "id": "fe9b9809",
   "metadata": {},
   "source": [
    "# Imports"
   ]
  },
  {
   "cell_type": "code",
   "execution_count": 1,
   "id": "c1b7f0b5",
   "metadata": {},
   "outputs": [],
   "source": [
    "%load_ext autoreload\n",
    "%autoreload 2"
   ]
  },
  {
   "cell_type": "code",
   "execution_count": 26,
   "id": "d03697d2",
   "metadata": {},
   "outputs": [],
   "source": [
    "#%reload_ext autoreload if needed"
   ]
  },
  {
   "cell_type": "code",
   "execution_count": 2,
   "id": "71287f5d",
   "metadata": {},
   "outputs": [],
   "source": [
    "import sys\n",
    "\n",
    "#Load up the directory with the .py files for importing\n",
    "sys.path.insert(0, \"/home/kelcey/eelg_properties/python_files\")\n",
    "\n",
    "\n",
    "#Import the .py files you want\n",
    "from func import *"
   ]
  },
  {
   "cell_type": "code",
   "execution_count": 3,
   "id": "141e1027",
   "metadata": {},
   "outputs": [
    {
     "name": "stderr",
     "output_type": "stream",
     "text": [
      "/home/kelcey/anaconda3/envs/hera/lib/python3.9/site-packages/pandas/core/computation/expressions.py:21: UserWarning: Pandas requires version '2.8.4' or newer of 'numexpr' (version '2.7.3' currently installed).\n",
      "  from pandas.core.computation.check import NUMEXPR_INSTALLED\n",
      "/home/kelcey/anaconda3/envs/hera/lib/python3.9/site-packages/pandas/core/arrays/masked.py:60: UserWarning: Pandas requires version '1.3.6' or newer of 'bottleneck' (version '1.3.2' currently installed).\n",
      "  from pandas.core import (\n"
     ]
    }
   ],
   "source": [
    "#Imports from code I did not write\n",
    "\n",
    "import astropy.units as u\n",
    "import astropy.constants as c\n",
    "from astropy.coordinates import SkyCoord, search_around_sky\n",
    "from astropy.time import Time\n",
    "import numpy as np\n",
    "from scipy import stats\n",
    "import matplotlib.pyplot as plt\n",
    "import pandas as pd\n",
    "import glob\n",
    "#%matplotlib notebook\n",
    "%matplotlib inline\n",
    "from astropy.io import fits\n",
    "from itertools import combinations\n",
    "import pickle\n",
    "from astropy.cosmology import WMAP9 as cosmo\n",
    "import seaborn as sns\n",
    "from astropy.table import Table\n",
    "\n",
    "\n",
    "#Setting up matplotlib\n",
    "plt.rcParams['figure.figsize'] = (10, 10)\n",
    "plt.rc('axes', labelsize=27)\n",
    "#plt.rc('axes', labelweight='bold')\n",
    "plt.rc('axes', titlesize=27)\n",
    "plt.rc('axes', titleweight='bold')\n",
    "plt.rc('font', family='sans-serif')\n",
    "plt.rcParams.update({'font.size': 20})"
   ]
  },
  {
   "cell_type": "code",
   "execution_count": null,
   "id": "1b3703b3",
   "metadata": {},
   "outputs": [],
   "source": []
  }
 ],
 "metadata": {
  "kernelspec": {
   "display_name": "Python 3",
   "language": "python",
   "name": "python3"
  },
  "language_info": {
   "codemirror_mode": {
    "name": "ipython",
    "version": 3
   },
   "file_extension": ".py",
   "mimetype": "text/x-python",
   "name": "python",
   "nbconvert_exporter": "python",
   "pygments_lexer": "ipython3",
   "version": "3.9.6"
  }
 },
 "nbformat": 4,
 "nbformat_minor": 5
}
